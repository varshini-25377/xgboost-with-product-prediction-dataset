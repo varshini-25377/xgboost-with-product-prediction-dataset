{
 "cells": [
  {
   "cell_type": "code",
   "execution_count": 18,
   "id": "8fe35952",
   "metadata": {},
   "outputs": [
    {
     "name": "stdout",
     "output_type": "stream",
     "text": [
      "Collecting xgboost\n",
      "  Downloading xgboost-1.6.1-py3-none-win_amd64.whl (125.4 MB)\n"
     ]
    },
    {
     "name": "stderr",
     "output_type": "stream",
     "text": [
      "ERROR: THESE PACKAGES DO NOT MATCH THE HASHES FROM THE REQUIREMENTS FILE. If you have updated the package versions, please update the hashes. Otherwise, examine the package contents carefully; someone may have tampered with them.\n",
      "    xgboost from https://files.pythonhosted.org/packages/66/88/11cbea9c7a4ebae26c16ef20c14bfca3fa5aded4b0de27ccd8482429e7bf/xgboost-1.6.1-py3-none-win_amd64.whl#sha256=3adcb7e4ccf774d5e0128c01e5c381303c3799910ab0f2e996160fe3cd23b7fc:\n",
      "        Expected sha256 3adcb7e4ccf774d5e0128c01e5c381303c3799910ab0f2e996160fe3cd23b7fc\n",
      "             Got        e46c3c309b116b734d8f6fab11a4fe49fd44fbb1e18d1f7ebc6edc8badd8f36c\n",
      "\n"
     ]
    }
   ],
   "source": [
    "!pip install xgboost"
   ]
  },
  {
   "cell_type": "code",
   "execution_count": 19,
   "id": "2d135aa1",
   "metadata": {
    "_cell_guid": "b1076dfc-b9ad-4769-8c92-a6c4dae69d19",
    "_uuid": "8f2839f25d086af736a60e9eeb907d3b93b6e0e5",
    "execution": {
     "iopub.execute_input": "2022-03-29T00:42:43.343126Z",
     "iopub.status.busy": "2022-03-29T00:42:43.341938Z",
     "iopub.status.idle": "2022-03-29T00:42:44.848811Z",
     "shell.execute_reply": "2022-03-29T00:42:44.848037Z",
     "shell.execute_reply.started": "2022-03-29T00:06:02.772170Z"
    },
    "papermill": {
     "duration": 1.546371,
     "end_time": "2022-03-29T00:42:44.848984",
     "exception": false,
     "start_time": "2022-03-29T00:42:43.302613",
     "status": "completed"
    },
    "tags": []
   },
   "outputs": [
    {
     "ename": "ModuleNotFoundError",
     "evalue": "No module named 'xgboost'",
     "output_type": "error",
     "traceback": [
      "\u001b[1;31m---------------------------------------------------------------------------\u001b[0m",
      "\u001b[1;31mModuleNotFoundError\u001b[0m                       Traceback (most recent call last)",
      "Input \u001b[1;32mIn [19]\u001b[0m, in \u001b[0;36m<cell line: 4>\u001b[1;34m()\u001b[0m\n\u001b[0;32m      1\u001b[0m \u001b[38;5;28;01mimport\u001b[39;00m \u001b[38;5;21;01mnumpy\u001b[39;00m \u001b[38;5;28;01mas\u001b[39;00m \u001b[38;5;21;01mnp\u001b[39;00m \u001b[38;5;66;03m# linear algebra\u001b[39;00m\n\u001b[0;32m      2\u001b[0m \u001b[38;5;28;01mimport\u001b[39;00m \u001b[38;5;21;01mpandas\u001b[39;00m \u001b[38;5;28;01mas\u001b[39;00m \u001b[38;5;21;01mpd\u001b[39;00m \u001b[38;5;66;03m# data processing, CSV file I/O (e.g. pd.read_csv)\u001b[39;00m\n\u001b[1;32m----> 4\u001b[0m \u001b[38;5;28;01mfrom\u001b[39;00m \u001b[38;5;21;01mxgboost\u001b[39;00m \u001b[38;5;28;01mimport\u001b[39;00m XGBClassifier\n\u001b[0;32m      5\u001b[0m \u001b[38;5;28;01mfrom\u001b[39;00m \u001b[38;5;21;01msklearn\u001b[39;00m\u001b[38;5;21;01m.\u001b[39;00m\u001b[38;5;21;01mmodel_selection\u001b[39;00m \u001b[38;5;28;01mimport\u001b[39;00m StratifiedShuffleSplit\n\u001b[0;32m      6\u001b[0m \u001b[38;5;28;01mfrom\u001b[39;00m \u001b[38;5;21;01msklearn\u001b[39;00m\u001b[38;5;21;01m.\u001b[39;00m\u001b[38;5;21;01mmetrics\u001b[39;00m \u001b[38;5;28;01mimport\u001b[39;00m log_loss, accuracy_score\n",
      "\u001b[1;31mModuleNotFoundError\u001b[0m: No module named 'xgboost'"
     ]
    }
   ],
   "source": [
    "import numpy as np \n",
    "import pandas as pd\n",
    "\n",
    "from xgboost import XGBClassifier\n",
    "from sklearn.model_selection import StratifiedShuffleSplit\n",
    "from sklearn.metrics import log_loss, accuracy_score\n",
    "from sklearn.preprocessing import LabelEncoder, StandardScaler\n",
    "from sklearn.feature_selection import SelectFromModel\n",
    "from sklearn.calibration import CalibratedClassifierCV\n",
    "from imblearn.over_sampling import RandomOverSampler\n",
    "from matplotlib import pyplot as plt"
   ]
  },
  {
   "cell_type": "code",
   "execution_count": 1,
   "id": "c4e31e7c",
   "metadata": {
    "execution": {
     "iopub.execute_input": "2022-03-29T00:42:44.911311Z",
     "iopub.status.busy": "2022-03-29T00:42:44.910699Z",
     "iopub.status.idle": "2022-03-29T00:42:44.913092Z",
     "shell.execute_reply": "2022-03-29T00:42:44.912453Z",
     "shell.execute_reply.started": "2022-03-29T00:06:20.792021Z"
    },
    "papermill": {
     "duration": 0.034437,
     "end_time": "2022-03-29T00:42:44.913230",
     "exception": false,
     "start_time": "2022-03-29T00:42:44.878793",
     "status": "completed"
    },
    "tags": []
   },
   "outputs": [],
   "source": [
    "def display_all(df):\n",
    "    with pd.option_context(\"display.max_rows\", 1000, \"display.max_columns\", 1000): \n",
    "        display(df)"
   ]
  },
  {
   "cell_type": "markdown",
   "id": "9b1a89d1",
   "metadata": {
    "papermill": {
     "duration": 0.029517,
     "end_time": "2022-03-29T00:42:44.971036",
     "exception": false,
     "start_time": "2022-03-29T00:42:44.941519",
     "status": "completed"
    },
    "tags": []
   },
   "source": [
    "## Read Training Data"
   ]
  },
  {
   "cell_type": "code",
   "execution_count": null,
   "id": "cea07917",
   "metadata": {
    "execution": {
     "iopub.execute_input": "2022-03-29T00:42:45.029184Z",
     "iopub.status.busy": "2022-03-29T00:42:45.028535Z",
     "iopub.status.idle": "2022-03-29T00:42:45.760650Z",
     "shell.execute_reply": "2022-03-29T00:42:45.761138Z",
     "shell.execute_reply.started": "2022-03-29T00:07:57.234514Z"
    },
    "papermill": {
     "duration": 0.762911,
     "end_time": "2022-03-29T00:42:45.761300",
     "exception": false,
     "start_time": "2022-03-29T00:42:44.998389",
     "status": "completed"
    },
    "tags": []
   },
   "outputs": [],
   "source": [
    "data = pd.read_csv(\"train.csv\", decimal=\",\")\n",
    "ds = data.values\n",
    "ds"
   ]
  },
  {
   "cell_type": "code",
   "execution_count": null,
   "id": "f76c8934",
   "metadata": {
    "execution": {
     "iopub.execute_input": "2022-03-29T00:42:45.821319Z",
     "iopub.status.busy": "2022-03-29T00:42:45.820360Z",
     "iopub.status.idle": "2022-03-29T00:42:45.824206Z",
     "shell.execute_reply": "2022-03-29T00:42:45.824795Z",
     "shell.execute_reply.started": "2022-03-29T00:09:52.828031Z"
    },
    "papermill": {
     "duration": 0.035507,
     "end_time": "2022-03-29T00:42:45.824953",
     "exception": false,
     "start_time": "2022-03-29T00:42:45.789446",
     "status": "completed"
    },
    "tags": []
   },
   "outputs": [],
   "source": [
    "x_trdata = ds[:, 1:94]\n",
    "y_trdata = ds[:, 94]"
   ]
  },
  {
   "cell_type": "code",
   "execution_count": null,
   "id": "0bd54ce2",
   "metadata": {
    "execution": {
     "iopub.execute_input": "2022-03-29T00:42:45.884552Z",
     "iopub.status.busy": "2022-03-29T00:42:45.883605Z",
     "iopub.status.idle": "2022-03-29T00:42:45.909812Z",
     "shell.execute_reply": "2022-03-29T00:42:45.909186Z",
     "shell.execute_reply.started": "2022-03-29T00:09:55.402007Z"
    },
    "papermill": {
     "duration": 0.056953,
     "end_time": "2022-03-29T00:42:45.909949",
     "exception": false,
     "start_time": "2022-03-29T00:42:45.852996",
     "status": "completed"
    },
    "tags": []
   },
   "outputs": [],
   "source": [
    "le = LabelEncoder()\n",
    "y_trdata = le.fit_transform(y_trdata).astype(int)\n",
    "y_trdata"
   ]
  },
  {
   "cell_type": "code",
   "execution_count": null,
   "id": "dce0968a",
   "metadata": {
    "execution": {
     "iopub.execute_input": "2022-03-29T00:42:45.972610Z",
     "iopub.status.busy": "2022-03-29T00:42:45.971951Z",
     "iopub.status.idle": "2022-03-29T00:42:46.671379Z",
     "shell.execute_reply": "2022-03-29T00:42:46.670831Z",
     "shell.execute_reply.started": "2022-03-29T00:10:19.898969Z"
    },
    "papermill": {
     "duration": 0.733544,
     "end_time": "2022-03-29T00:42:46.671543",
     "exception": false,
     "start_time": "2022-03-29T00:42:45.937999",
     "status": "completed"
    },
    "tags": []
   },
   "outputs": [],
   "source": [
    "seed = 326\n",
    "ts = 0.20\n",
    "\n",
    "sss = StratifiedShuffleSplit(n_splits=1, test_size=ts, random_state=seed)\n",
    "for train_idx, test_idx in sss.split(x_trdata, y_trdata):\n",
    "    x_train = x_trdata[train_idx]\n",
    "    y_train = y_trdata[train_idx]\n",
    "    x_val = x_trdata[test_idx]\n",
    "    y_val = y_trdata[test_idx]  "
   ]
  },
  {
   "cell_type": "markdown",
   "id": "2ba7c1b1",
   "metadata": {
    "papermill": {
     "duration": 0.029704,
     "end_time": "2022-03-29T00:42:46.730529",
     "exception": false,
     "start_time": "2022-03-29T00:42:46.700825",
     "status": "completed"
    },
    "tags": []
   },
   "source": [
    "## Quick Check on Data"
   ]
  },
  {
   "cell_type": "code",
   "execution_count": null,
   "id": "e3ceea5d",
   "metadata": {
    "execution": {
     "iopub.execute_input": "2022-03-29T00:42:46.792527Z",
     "iopub.status.busy": "2022-03-29T00:42:46.791840Z",
     "iopub.status.idle": "2022-03-29T00:42:46.810951Z",
     "shell.execute_reply": "2022-03-29T00:42:46.811535Z",
     "shell.execute_reply.started": "2022-03-29T00:12:13.924621Z"
    },
    "papermill": {
     "duration": 0.05259,
     "end_time": "2022-03-29T00:42:46.811698",
     "exception": false,
     "start_time": "2022-03-29T00:42:46.759108",
     "status": "completed"
    },
    "tags": []
   },
   "outputs": [],
   "source": [
    "data.isnull().sum().sum()"
   ]
  },
  {
   "cell_type": "code",
   "execution_count": null,
   "id": "e715d553",
   "metadata": {
    "execution": {
     "iopub.execute_input": "2022-03-29T00:42:46.877852Z",
     "iopub.status.busy": "2022-03-29T00:42:46.877185Z",
     "iopub.status.idle": "2022-03-29T00:42:47.118664Z",
     "shell.execute_reply": "2022-03-29T00:42:47.118154Z",
     "shell.execute_reply.started": "2022-03-29T00:12:27.246418Z"
    },
    "papermill": {
     "duration": 0.278665,
     "end_time": "2022-03-29T00:42:47.118799",
     "exception": false,
     "start_time": "2022-03-29T00:42:46.840134",
     "status": "completed"
    },
    "tags": []
   },
   "outputs": [],
   "source": [
    "data[\"target\"].value_counts().plot.bar()"
   ]
  },
  {
   "cell_type": "code",
   "execution_count": null,
   "id": "84a294c9",
   "metadata": {
    "execution": {
     "iopub.execute_input": "2022-03-29T00:42:47.205103Z",
     "iopub.status.busy": "2022-03-29T00:42:47.204400Z",
     "iopub.status.idle": "2022-03-29T00:42:47.557602Z",
     "shell.execute_reply": "2022-03-29T00:42:47.558103Z",
     "shell.execute_reply.started": "2022-03-29T00:12:43.358355Z"
    },
    "papermill": {
     "duration": 0.409004,
     "end_time": "2022-03-29T00:42:47.558268",
     "exception": false,
     "start_time": "2022-03-29T00:42:47.149264",
     "status": "completed"
    },
    "tags": []
   },
   "outputs": [],
   "source": [
    "display_all(data.describe())"
   ]
  },
  {
   "cell_type": "markdown",
   "id": "c932eec5",
   "metadata": {
    "papermill": {
     "duration": 0.031817,
     "end_time": "2022-03-29T00:42:47.622620",
     "exception": false,
     "start_time": "2022-03-29T00:42:47.590803",
     "status": "completed"
    },
    "tags": []
   },
   "source": [
    "## XGBoost Baseline"
   ]
  },
  {
   "cell_type": "code",
   "execution_count": null,
   "id": "5a4f880b",
   "metadata": {
    "execution": {
     "iopub.execute_input": "2022-03-29T00:42:47.692035Z",
     "iopub.status.busy": "2022-03-29T00:42:47.691321Z",
     "iopub.status.idle": "2022-03-29T00:44:09.979336Z",
     "shell.execute_reply": "2022-03-29T00:44:09.979894Z",
     "shell.execute_reply.started": "2022-03-29T00:13:57.034750Z"
    },
    "papermill": {
     "duration": 82.325465,
     "end_time": "2022-03-29T00:44:09.980076",
     "exception": false,
     "start_time": "2022-03-29T00:42:47.654611",
     "status": "completed"
    },
    "tags": []
   },
   "outputs": [],
   "source": [
    "xgb = XGBClassifier(use_label_encoder=False)\n",
    "xgb.fit(x_train, y_train)"
   ]
  },
  {
   "cell_type": "code",
   "execution_count": null,
   "id": "b5f894ab",
   "metadata": {
    "execution": {
     "iopub.execute_input": "2022-03-29T00:44:10.049355Z",
     "iopub.status.busy": "2022-03-29T00:44:10.048716Z",
     "iopub.status.idle": "2022-03-29T00:44:10.292228Z",
     "shell.execute_reply": "2022-03-29T00:44:10.293443Z",
     "shell.execute_reply.started": "2022-03-29T00:15:22.924966Z"
    },
    "papermill": {
     "duration": 0.280857,
     "end_time": "2022-03-29T00:44:10.293697",
     "exception": false,
     "start_time": "2022-03-29T00:44:10.012840",
     "status": "completed"
    },
    "tags": []
   },
   "outputs": [],
   "source": [
    "pred = xgb.predict_proba(x_val)\n",
    "print(\"Validation data logloss: {}\".format(log_loss(y_val, pred)))"
   ]
  },
  {
   "cell_type": "code",
   "execution_count": null,
   "id": "c60741f5",
   "metadata": {
    "execution": {
     "iopub.execute_input": "2022-03-29T00:44:10.364245Z",
     "iopub.status.busy": "2022-03-29T00:44:10.363651Z",
     "iopub.status.idle": "2022-03-29T00:44:10.601285Z",
     "shell.execute_reply": "2022-03-29T00:44:10.601969Z",
     "shell.execute_reply.started": "2022-03-29T00:15:39.804089Z"
    },
    "papermill": {
     "duration": 0.274694,
     "end_time": "2022-03-29T00:44:10.602169",
     "exception": false,
     "start_time": "2022-03-29T00:44:10.327475",
     "status": "completed"
    },
    "tags": []
   },
   "outputs": [],
   "source": [
    "pred = xgb.predict(x_val)\n",
    "accu = accuracy_score(y_val, pred)\n",
    "print(\"Accuracy: %.2f%%\" % (accu * 100.0))"
   ]
  },
  {
   "cell_type": "markdown",
   "id": "2e01cbe9",
   "metadata": {
    "papermill": {
     "duration": 0.033744,
     "end_time": "2022-03-29T00:44:10.671081",
     "exception": false,
     "start_time": "2022-03-29T00:44:10.637337",
     "status": "completed"
    },
    "tags": []
   },
   "source": [
    "## XGBoost Parameter Tuning"
   ]
  },
  {
   "cell_type": "markdown",
   "id": "2e358c7c",
   "metadata": {
    "papermill": {
     "duration": 0.033397,
     "end_time": "2022-03-29T00:44:10.738315",
     "exception": false,
     "start_time": "2022-03-29T00:44:10.704918",
     "status": "completed"
    },
    "tags": []
   },
   "source": [
    "#### learning_rate"
   ]
  },
  {
   "cell_type": "code",
   "execution_count": null,
   "id": "87ff1b44",
   "metadata": {
    "execution": {
     "iopub.execute_input": "2022-03-29T00:44:10.814630Z",
     "iopub.status.busy": "2022-03-29T00:44:10.813376Z",
     "iopub.status.idle": "2022-03-29T00:48:20.225146Z",
     "shell.execute_reply": "2022-03-29T00:48:20.226232Z",
     "shell.execute_reply.started": "2022-03-29T00:19:13.099916Z"
    },
    "papermill": {
     "duration": 249.454703,
     "end_time": "2022-03-29T00:48:20.226626",
     "exception": false,
     "start_time": "2022-03-29T00:44:10.771923",
     "status": "completed"
    },
    "tags": []
   },
   "outputs": [],
   "source": [
    "lr_scores = []\n",
    "learning_rates = [0.345, 0.350, 0.355]\n",
    "\n",
    "for l in learning_rates:\n",
    "    tune_xgb = XGBClassifier(use_label_encoder=False, learning_rate=l)\n",
    "    tune_xgb.fit(x_train, y_train)\n",
    "    pred = tune_xgb.predict_proba(x_val)\n",
    "    lr_scores.append(log_loss(y_val, pred))\n",
    "    print(\"learning_rate=%.3f, logloss: %.5f\" % (l, log_loss(y_val, pred)))"
   ]
  },
  {
   "cell_type": "code",
   "execution_count": null,
   "id": "cb7c35ee",
   "metadata": {
    "execution": {
     "iopub.execute_input": "2022-03-29T00:48:20.324876Z",
     "iopub.status.busy": "2022-03-29T00:48:20.324148Z",
     "iopub.status.idle": "2022-03-29T00:48:20.494346Z",
     "shell.execute_reply": "2022-03-29T00:48:20.494911Z",
     "shell.execute_reply.started": "2022-03-29T00:23:29.291492Z"
    },
    "papermill": {
     "duration": 0.227859,
     "end_time": "2022-03-29T00:48:20.495094",
     "exception": false,
     "start_time": "2022-03-29T00:48:20.267235",
     "status": "completed"
    },
    "tags": []
   },
   "outputs": [],
   "source": [
    "plt.plot(learning_rates, lr_scores, 'o-')\n",
    "plt.ylabel(log_loss)\n",
    "plt.xlabel(\"learning_rate\")\n",
    "print(\"best learning_rate {}\".format(learning_rates[np.argmin(lr_scores)]))"
   ]
  },
  {
   "cell_type": "markdown",
   "id": "170bf517",
   "metadata": {
    "papermill": {
     "duration": 0.037613,
     "end_time": "2022-03-29T00:48:20.570586",
     "exception": false,
     "start_time": "2022-03-29T00:48:20.532973",
     "status": "completed"
    },
    "tags": []
   },
   "source": [
    "## XGBoost Fine-tune Params"
   ]
  },
  {
   "cell_type": "code",
   "execution_count": null,
   "id": "bfa37de7",
   "metadata": {
    "execution": {
     "iopub.execute_input": "2022-03-29T00:48:20.649372Z",
     "iopub.status.busy": "2022-03-29T00:48:20.648750Z",
     "iopub.status.idle": "2022-03-29T00:48:20.652463Z",
     "shell.execute_reply": "2022-03-29T00:48:20.653102Z",
     "shell.execute_reply.started": "2022-03-29T00:23:29.517379Z"
    },
    "papermill": {
     "duration": 0.044933,
     "end_time": "2022-03-29T00:48:20.653275",
     "exception": false,
     "start_time": "2022-03-29T00:48:20.608342",
     "status": "completed"
    },
    "tags": []
   },
   "outputs": [],
   "source": [
    "pa = {'objective':'multi:sofprob',\n",
    "      'learning_rate': 0.35,\n",
    "     }"
   ]
  },
  {
   "cell_type": "code",
   "execution_count": null,
   "id": "3dd8c7e3",
   "metadata": {
    "execution": {
     "iopub.execute_input": "2022-03-29T00:48:20.732703Z",
     "iopub.status.busy": "2022-03-29T00:48:20.731899Z",
     "iopub.status.idle": "2022-03-29T00:53:55.064284Z",
     "shell.execute_reply": "2022-03-29T00:53:55.064849Z",
     "shell.execute_reply.started": "2022-03-29T00:24:56.581418Z"
    },
    "papermill": {
     "duration": 334.373665,
     "end_time": "2022-03-29T00:53:55.065036",
     "exception": false,
     "start_time": "2022-03-29T00:48:20.691371",
     "status": "completed"
    },
    "tags": []
   },
   "outputs": [],
   "source": [
    "xgb = XGBClassifier(**pa, use_label_encoder=False)\n",
    "model = CalibratedClassifierCV(xgb, cv=5, method=\"isotonic\")\n",
    "model.fit(x_train, y_train)"
   ]
  },
  {
   "cell_type": "code",
   "execution_count": null,
   "id": "3de7194e",
   "metadata": {
    "execution": {
     "iopub.execute_input": "2022-03-29T00:53:55.150067Z",
     "iopub.status.busy": "2022-03-29T00:53:55.149342Z",
     "iopub.status.idle": "2022-03-29T00:53:56.340276Z",
     "shell.execute_reply": "2022-03-29T00:53:56.340953Z",
     "shell.execute_reply.started": "2022-03-29T00:30:43.550624Z"
    },
    "papermill": {
     "duration": 1.236284,
     "end_time": "2022-03-29T00:53:56.341185",
     "exception": false,
     "start_time": "2022-03-29T00:53:55.104901",
     "status": "completed"
    },
    "tags": []
   },
   "outputs": [],
   "source": [
    "pred = model.predict_proba(x_val)\n",
    "print(\"Validation data logloss: {}\".format(log_loss(y_val, pred)))"
   ]
  },
  {
   "cell_type": "markdown",
   "id": "d9952b15",
   "metadata": {
    "papermill": {
     "duration": 0.040317,
     "end_time": "2022-03-29T00:53:56.422673",
     "exception": false,
     "start_time": "2022-03-29T00:53:56.382356",
     "status": "completed"
    },
    "tags": []
   },
   "source": [
    "## Predict with Test Data"
   ]
  },
  {
   "cell_type": "code",
   "execution_count": null,
   "id": "175a4f5f",
   "metadata": {
    "execution": {
     "iopub.execute_input": "2022-03-29T00:53:56.507144Z",
     "iopub.status.busy": "2022-03-29T00:53:56.506494Z",
     "iopub.status.idle": "2022-03-29T00:53:57.643209Z",
     "shell.execute_reply": "2022-03-29T00:53:57.642189Z",
     "shell.execute_reply.started": "2022-03-29T00:40:39.243039Z"
    },
    "papermill": {
     "duration": 1.180139,
     "end_time": "2022-03-29T00:53:57.643354",
     "exception": false,
     "start_time": "2022-03-29T00:53:56.463215",
     "status": "completed"
    },
    "tags": []
   },
   "outputs": [],
   "source": [
    "test = pd.read_csv(\"../input/otto-group-product-classification-challenge/test.csv\", decimal=\",\")\n",
    "ds = test.values\n",
    "ds"
   ]
  },
  {
   "cell_type": "code",
   "execution_count": null,
   "id": "4c8f4701",
   "metadata": {
    "execution": {
     "iopub.execute_input": "2022-03-29T00:53:57.730705Z",
     "iopub.status.busy": "2022-03-29T00:53:57.729797Z",
     "iopub.status.idle": "2022-03-29T00:53:57.732941Z",
     "shell.execute_reply": "2022-03-29T00:53:57.733398Z",
     "shell.execute_reply.started": "2022-03-29T00:40:43.701394Z"
    },
    "papermill": {
     "duration": 0.049658,
     "end_time": "2022-03-29T00:53:57.733615",
     "exception": false,
     "start_time": "2022-03-29T00:53:57.683957",
     "status": "completed"
    },
    "tags": []
   },
   "outputs": [],
   "source": [
    "test.shape"
   ]
  },
  {
   "cell_type": "code",
   "execution_count": null,
   "id": "f489c917",
   "metadata": {
    "execution": {
     "iopub.execute_input": "2022-03-29T00:53:57.823070Z",
     "iopub.status.busy": "2022-03-29T00:53:57.822114Z",
     "iopub.status.idle": "2022-03-29T00:53:57.825728Z",
     "shell.execute_reply": "2022-03-29T00:53:57.826171Z",
     "shell.execute_reply.started": "2022-03-29T00:40:45.209388Z"
    },
    "papermill": {
     "duration": 0.051741,
     "end_time": "2022-03-29T00:53:57.826345",
     "exception": false,
     "start_time": "2022-03-29T00:53:57.774604",
     "status": "completed"
    },
    "tags": []
   },
   "outputs": [],
   "source": [
    "x_test = ds[:, 1:94]\n",
    "x_test"
   ]
  },
  {
   "cell_type": "code",
   "execution_count": null,
   "id": "2bc8ce3c",
   "metadata": {
    "execution": {
     "iopub.execute_input": "2022-03-29T00:53:57.915339Z",
     "iopub.status.busy": "2022-03-29T00:53:57.914263Z",
     "iopub.status.idle": "2022-03-29T00:54:06.355713Z",
     "shell.execute_reply": "2022-03-29T00:54:06.356209Z",
     "shell.execute_reply.started": "2022-03-29T00:40:49.448444Z"
    },
    "papermill": {
     "duration": 8.488224,
     "end_time": "2022-03-29T00:54:06.356380",
     "exception": false,
     "start_time": "2022-03-29T00:53:57.868156",
     "status": "completed"
    },
    "tags": []
   },
   "outputs": [],
   "source": [
    "pred = model.predict_proba(x_test)\n",
    "pred"
   ]
  },
  {
   "cell_type": "code",
   "execution_count": null,
   "id": "2a5a206f",
   "metadata": {
    "execution": {
     "iopub.execute_input": "2022-03-29T00:54:06.462662Z",
     "iopub.status.busy": "2022-03-29T00:54:06.461468Z",
     "iopub.status.idle": "2022-03-29T00:54:06.465581Z",
     "shell.execute_reply": "2022-03-29T00:54:06.465059Z",
     "shell.execute_reply.started": "2022-03-29T00:40:58.204710Z"
    },
    "papermill": {
     "duration": 0.067153,
     "end_time": "2022-03-29T00:54:06.465724",
     "exception": false,
     "start_time": "2022-03-29T00:54:06.398571",
     "status": "completed"
    },
    "tags": []
   },
   "outputs": [],
   "source": [
    "output = pd.DataFrame(pred, columns=[\"Class_1\",\"Class_2\",\"Class_3\",\"Class_4\",\"Class_5\",\"Class_6\",\"Class_7\",\"Class_8\",\"Class_9\"])\n",
    "output.index.name = \"id\"\n",
    "output.index += 1\n",
    "output"
   ]
  },
  {
   "cell_type": "code",
   "execution_count": null,
   "id": "4fd8628e",
   "metadata": {
    "execution": {
     "iopub.execute_input": "2022-03-29T00:54:06.558270Z",
     "iopub.status.busy": "2022-03-29T00:54:06.557459Z",
     "iopub.status.idle": "2022-03-29T00:54:09.029240Z",
     "shell.execute_reply": "2022-03-29T00:54:09.028548Z",
     "shell.execute_reply.started": "2022-03-29T00:42:05.652261Z"
    },
    "papermill": {
     "duration": 2.520907,
     "end_time": "2022-03-29T00:54:09.029381",
     "exception": false,
     "start_time": "2022-03-29T00:54:06.508474",
     "status": "completed"
    },
    "tags": []
   },
   "outputs": [],
   "source": [
    "output.to_csv(\"./otto_submission.csv\")"
   ]
  },
  {
   "cell_type": "code",
   "execution_count": null,
   "id": "ac062f4c",
   "metadata": {},
   "outputs": [],
   "source": []
  },
  {
   "cell_type": "code",
   "execution_count": null,
   "id": "870e4a1c",
   "metadata": {},
   "outputs": [],
   "source": []
  },
  {
   "cell_type": "code",
   "execution_count": null,
   "id": "c714af0b",
   "metadata": {},
   "outputs": [],
   "source": []
  },
  {
   "cell_type": "code",
   "execution_count": null,
   "id": "4d2db7a3",
   "metadata": {},
   "outputs": [],
   "source": []
  }
 ],
 "metadata": {
  "kernelspec": {
   "display_name": "Python 3 (ipykernel)",
   "language": "python",
   "name": "python3"
  },
  "language_info": {
   "codemirror_mode": {
    "name": "ipython",
    "version": 3
   },
   "file_extension": ".py",
   "mimetype": "text/x-python",
   "name": "python",
   "nbconvert_exporter": "python",
   "pygments_lexer": "ipython3",
   "version": "3.9.12"
  },
  "papermill": {
   "default_parameters": {},
   "duration": 696.185139,
   "end_time": "2022-03-29T00:54:09.885172",
   "environment_variables": {},
   "exception": null,
   "input_path": "__notebook__.ipynb",
   "output_path": "__notebook__.ipynb",
   "parameters": {},
   "start_time": "2022-03-29T00:42:33.700033",
   "version": "2.3.3"
  }
 },
 "nbformat": 4,
 "nbformat_minor": 5
}
